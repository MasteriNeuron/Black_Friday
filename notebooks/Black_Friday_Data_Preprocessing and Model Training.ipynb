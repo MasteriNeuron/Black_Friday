{
  "cells": [
    {
      "cell_type": "code",
      "execution_count": 1,
      "metadata": {
        "id": "Mb9MvoL2zesP"
      },
      "outputs": [],
      "source": [
        "import pandas as pd\n",
        "import numpy as np\n",
        "import matplotlib.pyplot as plt\n",
        "import seaborn as sns"
      ]
    },
    {
      "cell_type": "code",
      "execution_count": 2,
      "metadata": {
        "colab": {
          "base_uri": "https://localhost:8080/",
          "height": 339
        },
        "id": "oV0mV8wMzsdP",
        "outputId": "dfe26dd6-8413-4158-8b30-36b5854c4219"
      },
      "outputs": [
        {
          "data": {
            "text/html": [
              "<div>\n",
              "<style scoped>\n",
              "    .dataframe tbody tr th:only-of-type {\n",
              "        vertical-align: middle;\n",
              "    }\n",
              "\n",
              "    .dataframe tbody tr th {\n",
              "        vertical-align: top;\n",
              "    }\n",
              "\n",
              "    .dataframe thead th {\n",
              "        text-align: right;\n",
              "    }\n",
              "</style>\n",
              "<table border=\"1\" class=\"dataframe\">\n",
              "  <thead>\n",
              "    <tr style=\"text-align: right;\">\n",
              "      <th></th>\n",
              "      <th>User_ID</th>\n",
              "      <th>Product_ID</th>\n",
              "      <th>Gender</th>\n",
              "      <th>Age</th>\n",
              "      <th>Occupation</th>\n",
              "      <th>City_Category</th>\n",
              "      <th>Stay_In_Current_City_Years</th>\n",
              "      <th>Marital_Status</th>\n",
              "      <th>Product_Category_1</th>\n",
              "      <th>Product_Category_2</th>\n",
              "      <th>Product_Category_3</th>\n",
              "      <th>Purchase</th>\n",
              "    </tr>\n",
              "  </thead>\n",
              "  <tbody>\n",
              "    <tr>\n",
              "      <th>0</th>\n",
              "      <td>1000001</td>\n",
              "      <td>P00069042</td>\n",
              "      <td>F</td>\n",
              "      <td>0-17</td>\n",
              "      <td>10</td>\n",
              "      <td>A</td>\n",
              "      <td>2</td>\n",
              "      <td>0</td>\n",
              "      <td>3</td>\n",
              "      <td>NaN</td>\n",
              "      <td>NaN</td>\n",
              "      <td>8370</td>\n",
              "    </tr>\n",
              "    <tr>\n",
              "      <th>1</th>\n",
              "      <td>1000001</td>\n",
              "      <td>P00248942</td>\n",
              "      <td>F</td>\n",
              "      <td>0-17</td>\n",
              "      <td>10</td>\n",
              "      <td>A</td>\n",
              "      <td>2</td>\n",
              "      <td>0</td>\n",
              "      <td>1</td>\n",
              "      <td>6.0</td>\n",
              "      <td>14.0</td>\n",
              "      <td>15200</td>\n",
              "    </tr>\n",
              "    <tr>\n",
              "      <th>2</th>\n",
              "      <td>1000001</td>\n",
              "      <td>P00087842</td>\n",
              "      <td>F</td>\n",
              "      <td>0-17</td>\n",
              "      <td>10</td>\n",
              "      <td>A</td>\n",
              "      <td>2</td>\n",
              "      <td>0</td>\n",
              "      <td>12</td>\n",
              "      <td>NaN</td>\n",
              "      <td>NaN</td>\n",
              "      <td>1422</td>\n",
              "    </tr>\n",
              "    <tr>\n",
              "      <th>3</th>\n",
              "      <td>1000001</td>\n",
              "      <td>P00085442</td>\n",
              "      <td>F</td>\n",
              "      <td>0-17</td>\n",
              "      <td>10</td>\n",
              "      <td>A</td>\n",
              "      <td>2</td>\n",
              "      <td>0</td>\n",
              "      <td>12</td>\n",
              "      <td>14.0</td>\n",
              "      <td>NaN</td>\n",
              "      <td>1057</td>\n",
              "    </tr>\n",
              "    <tr>\n",
              "      <th>4</th>\n",
              "      <td>1000002</td>\n",
              "      <td>P00285442</td>\n",
              "      <td>M</td>\n",
              "      <td>55+</td>\n",
              "      <td>16</td>\n",
              "      <td>C</td>\n",
              "      <td>4+</td>\n",
              "      <td>0</td>\n",
              "      <td>8</td>\n",
              "      <td>NaN</td>\n",
              "      <td>NaN</td>\n",
              "      <td>7969</td>\n",
              "    </tr>\n",
              "  </tbody>\n",
              "</table>\n",
              "</div>"
            ],
            "text/plain": [
              "   User_ID Product_ID Gender   Age  Occupation City_Category  \\\n",
              "0  1000001  P00069042      F  0-17          10             A   \n",
              "1  1000001  P00248942      F  0-17          10             A   \n",
              "2  1000001  P00087842      F  0-17          10             A   \n",
              "3  1000001  P00085442      F  0-17          10             A   \n",
              "4  1000002  P00285442      M   55+          16             C   \n",
              "\n",
              "  Stay_In_Current_City_Years  Marital_Status  Product_Category_1  \\\n",
              "0                          2               0                   3   \n",
              "1                          2               0                   1   \n",
              "2                          2               0                  12   \n",
              "3                          2               0                  12   \n",
              "4                         4+               0                   8   \n",
              "\n",
              "   Product_Category_2  Product_Category_3  Purchase  \n",
              "0                 NaN                 NaN      8370  \n",
              "1                 6.0                14.0     15200  \n",
              "2                 NaN                 NaN      1422  \n",
              "3                14.0                 NaN      1057  \n",
              "4                 NaN                 NaN      7969  "
            ]
          },
          "execution_count": 2,
          "metadata": {},
          "output_type": "execute_result"
        }
      ],
      "source": [
        "# Loading the dataset\n",
        "df=pd.read_csv(\"data/train.csv\")\n",
        "df.head()"
      ]
    },
    {
      "cell_type": "code",
      "execution_count": 3,
      "metadata": {
        "colab": {
          "base_uri": "https://localhost:8080/",
          "height": 371
        },
        "id": "IsR8kfs8zsgA",
        "outputId": "e9b733d5-8dca-4523-dc49-a1d348509bf4"
      },
      "outputs": [
        {
          "data": {
            "text/html": [
              "<div>\n",
              "<style scoped>\n",
              "    .dataframe tbody tr th:only-of-type {\n",
              "        vertical-align: middle;\n",
              "    }\n",
              "\n",
              "    .dataframe tbody tr th {\n",
              "        vertical-align: top;\n",
              "    }\n",
              "\n",
              "    .dataframe thead th {\n",
              "        text-align: right;\n",
              "    }\n",
              "</style>\n",
              "<table border=\"1\" class=\"dataframe\">\n",
              "  <thead>\n",
              "    <tr style=\"text-align: right;\">\n",
              "      <th></th>\n",
              "      <th>Product_ID</th>\n",
              "      <th>Gender</th>\n",
              "      <th>Age</th>\n",
              "      <th>Occupation</th>\n",
              "      <th>City_Category</th>\n",
              "      <th>Stay_In_Current_City_Years</th>\n",
              "      <th>Marital_Status</th>\n",
              "      <th>Product_Category_1</th>\n",
              "      <th>Product_Category_2</th>\n",
              "      <th>Product_Category_3</th>\n",
              "      <th>Purchase</th>\n",
              "    </tr>\n",
              "    <tr>\n",
              "      <th>User_ID</th>\n",
              "      <th></th>\n",
              "      <th></th>\n",
              "      <th></th>\n",
              "      <th></th>\n",
              "      <th></th>\n",
              "      <th></th>\n",
              "      <th></th>\n",
              "      <th></th>\n",
              "      <th></th>\n",
              "      <th></th>\n",
              "      <th></th>\n",
              "    </tr>\n",
              "  </thead>\n",
              "  <tbody>\n",
              "    <tr>\n",
              "      <th>1000001</th>\n",
              "      <td>P00069042</td>\n",
              "      <td>F</td>\n",
              "      <td>0-17</td>\n",
              "      <td>10</td>\n",
              "      <td>A</td>\n",
              "      <td>2</td>\n",
              "      <td>0</td>\n",
              "      <td>3</td>\n",
              "      <td>NaN</td>\n",
              "      <td>NaN</td>\n",
              "      <td>8370</td>\n",
              "    </tr>\n",
              "    <tr>\n",
              "      <th>1000001</th>\n",
              "      <td>P00248942</td>\n",
              "      <td>F</td>\n",
              "      <td>0-17</td>\n",
              "      <td>10</td>\n",
              "      <td>A</td>\n",
              "      <td>2</td>\n",
              "      <td>0</td>\n",
              "      <td>1</td>\n",
              "      <td>6.0</td>\n",
              "      <td>14.0</td>\n",
              "      <td>15200</td>\n",
              "    </tr>\n",
              "    <tr>\n",
              "      <th>1000001</th>\n",
              "      <td>P00087842</td>\n",
              "      <td>F</td>\n",
              "      <td>0-17</td>\n",
              "      <td>10</td>\n",
              "      <td>A</td>\n",
              "      <td>2</td>\n",
              "      <td>0</td>\n",
              "      <td>12</td>\n",
              "      <td>NaN</td>\n",
              "      <td>NaN</td>\n",
              "      <td>1422</td>\n",
              "    </tr>\n",
              "    <tr>\n",
              "      <th>1000001</th>\n",
              "      <td>P00085442</td>\n",
              "      <td>F</td>\n",
              "      <td>0-17</td>\n",
              "      <td>10</td>\n",
              "      <td>A</td>\n",
              "      <td>2</td>\n",
              "      <td>0</td>\n",
              "      <td>12</td>\n",
              "      <td>14.0</td>\n",
              "      <td>NaN</td>\n",
              "      <td>1057</td>\n",
              "    </tr>\n",
              "    <tr>\n",
              "      <th>1000002</th>\n",
              "      <td>P00285442</td>\n",
              "      <td>M</td>\n",
              "      <td>55+</td>\n",
              "      <td>16</td>\n",
              "      <td>C</td>\n",
              "      <td>4+</td>\n",
              "      <td>0</td>\n",
              "      <td>8</td>\n",
              "      <td>NaN</td>\n",
              "      <td>NaN</td>\n",
              "      <td>7969</td>\n",
              "    </tr>\n",
              "  </tbody>\n",
              "</table>\n",
              "</div>"
            ],
            "text/plain": [
              "        Product_ID Gender   Age  Occupation City_Category  \\\n",
              "User_ID                                                     \n",
              "1000001  P00069042      F  0-17          10             A   \n",
              "1000001  P00248942      F  0-17          10             A   \n",
              "1000001  P00087842      F  0-17          10             A   \n",
              "1000001  P00085442      F  0-17          10             A   \n",
              "1000002  P00285442      M   55+          16             C   \n",
              "\n",
              "        Stay_In_Current_City_Years  Marital_Status  Product_Category_1  \\\n",
              "User_ID                                                                  \n",
              "1000001                          2               0                   3   \n",
              "1000001                          2               0                   1   \n",
              "1000001                          2               0                  12   \n",
              "1000001                          2               0                  12   \n",
              "1000002                         4+               0                   8   \n",
              "\n",
              "         Product_Category_2  Product_Category_3  Purchase  \n",
              "User_ID                                                    \n",
              "1000001                 NaN                 NaN      8370  \n",
              "1000001                 6.0                14.0     15200  \n",
              "1000001                 NaN                 NaN      1422  \n",
              "1000001                14.0                 NaN      1057  \n",
              "1000002                 NaN                 NaN      7969  "
            ]
          },
          "execution_count": 3,
          "metadata": {},
          "output_type": "execute_result"
        }
      ],
      "source": [
        "# To change the index as User_ID\n",
        "df=df.set_index(\"User_ID\")\n",
        "df.head()"
      ]
    },
    {
      "cell_type": "code",
      "execution_count": 4,
      "metadata": {
        "colab": {
          "base_uri": "https://localhost:8080/"
        },
        "id": "5qYN7x8I1GSQ",
        "outputId": "0414ae43-73f6-49ce-b640-2d402a899bf8"
      },
      "outputs": [
        {
          "name": "stdout",
          "output_type": "stream",
          "text": [
            "<class 'pandas.core.frame.DataFrame'>\n",
            "Index: 550068 entries, 1000001 to 1006039\n",
            "Data columns (total 11 columns):\n",
            " #   Column                      Non-Null Count   Dtype  \n",
            "---  ------                      --------------   -----  \n",
            " 0   Product_ID                  550068 non-null  object \n",
            " 1   Gender                      550068 non-null  object \n",
            " 2   Age                         550068 non-null  object \n",
            " 3   Occupation                  550068 non-null  int64  \n",
            " 4   City_Category               550068 non-null  object \n",
            " 5   Stay_In_Current_City_Years  550068 non-null  object \n",
            " 6   Marital_Status              550068 non-null  int64  \n",
            " 7   Product_Category_1          550068 non-null  int64  \n",
            " 8   Product_Category_2          376430 non-null  float64\n",
            " 9   Product_Category_3          166821 non-null  float64\n",
            " 10  Purchase                    550068 non-null  int64  \n",
            "dtypes: float64(2), int64(4), object(5)\n",
            "memory usage: 50.4+ MB\n"
          ]
        }
      ],
      "source": [
        "df.info()"
      ]
    },
    {
      "cell_type": "code",
      "execution_count": 5,
      "metadata": {
        "id": "amPpIsfJzsi_"
      },
      "outputs": [],
      "source": [
        "df['Occupation']=df['Occupation'].astype('object')\n",
        "df['Marital_Status']=df['Marital_Status'].astype('object')\n",
        "df['Product_Category_1']=df['Product_Category_1'].astype('object')\n",
        "df['Product_Category_2']=df['Product_Category_2'].astype('object')\n",
        "df['Product_Category_3']=df['Product_Category_3'].astype('object')"
      ]
    },
    {
      "cell_type": "code",
      "execution_count": 6,
      "metadata": {
        "colab": {
          "base_uri": "https://localhost:8080/"
        },
        "id": "ToHZZoov0Ozm",
        "outputId": "908b32a6-7e7b-4ff4-90f7-69e4c8864de1"
      },
      "outputs": [
        {
          "name": "stdout",
          "output_type": "stream",
          "text": [
            "<class 'pandas.core.frame.DataFrame'>\n",
            "Index: 550068 entries, 1000001 to 1006039\n",
            "Data columns (total 11 columns):\n",
            " #   Column                      Non-Null Count   Dtype \n",
            "---  ------                      --------------   ----- \n",
            " 0   Product_ID                  550068 non-null  object\n",
            " 1   Gender                      550068 non-null  object\n",
            " 2   Age                         550068 non-null  object\n",
            " 3   Occupation                  550068 non-null  object\n",
            " 4   City_Category               550068 non-null  object\n",
            " 5   Stay_In_Current_City_Years  550068 non-null  object\n",
            " 6   Marital_Status              550068 non-null  object\n",
            " 7   Product_Category_1          550068 non-null  object\n",
            " 8   Product_Category_2          376430 non-null  object\n",
            " 9   Product_Category_3          166821 non-null  object\n",
            " 10  Purchase                    550068 non-null  int64 \n",
            "dtypes: int64(1), object(10)\n",
            "memory usage: 50.4+ MB\n"
          ]
        }
      ],
      "source": [
        "df.info()"
      ]
    },
    {
      "cell_type": "code",
      "execution_count": 7,
      "metadata": {
        "colab": {
          "base_uri": "https://localhost:8080/"
        },
        "id": "9hwVleSU0DZH",
        "outputId": "3b78b0b8-d67e-41b4-e404-c7475975656f"
      },
      "outputs": [
        {
          "data": {
            "text/plain": [
              "113"
            ]
          },
          "execution_count": 7,
          "metadata": {},
          "output_type": "execute_result"
        }
      ],
      "source": [
        "# To check number of the duplicate records in the dataset\n",
        "df.duplicated().sum()"
      ]
    },
    {
      "cell_type": "code",
      "execution_count": 8,
      "metadata": {
        "id": "4F_c4wc40Ium"
      },
      "outputs": [],
      "source": [
        "# Dropping the duplicate records:\n",
        "df=df.drop_duplicates(keep='first')"
      ]
    },
    {
      "cell_type": "code",
      "execution_count": 9,
      "metadata": {
        "colab": {
          "base_uri": "https://localhost:8080/"
        },
        "id": "hzAR_dHC0Ix-",
        "outputId": "dbb01fd0-9b32-43ab-8288-ceae66f7a931"
      },
      "outputs": [
        {
          "data": {
            "text/plain": [
              "Product_ID                         0\n",
              "Gender                             0\n",
              "Age                                0\n",
              "Occupation                         0\n",
              "City_Category                      0\n",
              "Stay_In_Current_City_Years         0\n",
              "Marital_Status                     0\n",
              "Product_Category_1                 0\n",
              "Product_Category_2            173583\n",
              "Product_Category_3            383154\n",
              "Purchase                           0\n",
              "dtype: int64"
            ]
          },
          "execution_count": 9,
          "metadata": {},
          "output_type": "execute_result"
        }
      ],
      "source": [
        "# To check number of missing values in the dataset\n",
        "df.isnull().sum()"
      ]
    },
    {
      "cell_type": "code",
      "execution_count": 10,
      "metadata": {
        "colab": {
          "base_uri": "https://localhost:8080/"
        },
        "id": "H_w6vqlA52BE",
        "outputId": "5a45ba77-b719-42ab-bed1-0256d00365ee"
      },
      "outputs": [
        {
          "data": {
            "text/plain": [
              "array([nan, 6.0, 14.0, 2.0, 8.0, 15.0, 16.0, 11.0, 5.0, 3.0, 4.0, 12.0,\n",
              "       9.0, 10.0, 17.0, 13.0, 7.0, 18.0], dtype=object)"
            ]
          },
          "execution_count": 10,
          "metadata": {},
          "output_type": "execute_result"
        }
      ],
      "source": [
        "df['Product_Category_2'].unique()"
      ]
    },
    {
      "cell_type": "code",
      "execution_count": 11,
      "metadata": {
        "colab": {
          "base_uri": "https://localhost:8080/"
        },
        "id": "XctkAMue6_8d",
        "outputId": "9e48ea91-7bff-4435-ea0e-06397b2fa74d"
      },
      "outputs": [
        {
          "data": {
            "text/plain": [
              "array([nan, 14.0, 17.0, 5.0, 4.0, 16.0, 15.0, 8.0, 9.0, 13.0, 6.0, 12.0,\n",
              "       3.0, 18.0, 11.0, 10.0], dtype=object)"
            ]
          },
          "execution_count": 11,
          "metadata": {},
          "output_type": "execute_result"
        }
      ],
      "source": [
        "df['Product_Category_3'].unique()"
      ]
    },
    {
      "cell_type": "code",
      "execution_count": 12,
      "metadata": {
        "id": "JIP8WBUD0U1-"
      },
      "outputs": [],
      "source": [
        "# Handling of null values:\n",
        "df['Product_Category_2']=df['Product_Category_2'].fillna(df['Product_Category_2'].mode().values[0])\n",
        "df['Product_Category_3']=df['Product_Category_3'].fillna(df['Product_Category_3'].mode().values[0])"
      ]
    },
    {
      "cell_type": "code",
      "execution_count": 13,
      "metadata": {
        "colab": {
          "base_uri": "https://localhost:8080/"
        },
        "id": "3CNiqXHG0U8x",
        "outputId": "8c30fbca-0a07-413a-84c0-88c3a1fe5291"
      },
      "outputs": [
        {
          "data": {
            "text/plain": [
              "Product_ID                    0\n",
              "Gender                        0\n",
              "Age                           0\n",
              "Occupation                    0\n",
              "City_Category                 0\n",
              "Stay_In_Current_City_Years    0\n",
              "Marital_Status                0\n",
              "Product_Category_1            0\n",
              "Product_Category_2            0\n",
              "Product_Category_3            0\n",
              "Purchase                      0\n",
              "dtype: int64"
            ]
          },
          "execution_count": 13,
          "metadata": {},
          "output_type": "execute_result"
        }
      ],
      "source": [
        "df.isnull().sum()"
      ]
    },
    {
      "cell_type": "code",
      "execution_count": 14,
      "metadata": {
        "colab": {
          "base_uri": "https://localhost:8080/"
        },
        "id": "-RIHnBc-0U_e",
        "outputId": "e9caeedf-a06c-4b31-92ec-3686c48f7b56"
      },
      "outputs": [
        {
          "name": "stdout",
          "output_type": "stream",
          "text": [
            "Product_ID:3631\n",
            "Gender:2\n",
            "Age:7\n",
            "Occupation:21\n",
            "City_Category:3\n",
            "Stay_In_Current_City_Years:5\n",
            "Marital_Status:2\n",
            "Product_Category_1:20\n",
            "Product_Category_2:17\n",
            "Product_Category_3:15\n",
            "Purchase:18105\n"
          ]
        }
      ],
      "source": [
        "for col in df.columns:\n",
        "  print(f\"{col}:{df[col].nunique()}\")"
      ]
    },
    {
      "attachments": {},
      "cell_type": "markdown",
      "metadata": {
        "id": "S0U8KLSbaIMQ"
      },
      "source": [
        "# Count/Frequncy Encoding"
      ]
    },
    {
      "cell_type": "code",
      "execution_count": 15,
      "metadata": {
        "id": "QriA3X9fDviZ"
      },
      "outputs": [],
      "source": [
        "X=df.drop('Purchase',axis=1)\n",
        "y=df['Purchase']"
      ]
    },
    {
      "cell_type": "code",
      "execution_count": 16,
      "metadata": {
        "id": "ZW6low0RTz1d"
      },
      "outputs": [],
      "source": [
        "prod_freq=X['Product_ID'].value_counts().to_dict()"
      ]
    },
    {
      "cell_type": "code",
      "execution_count": 17,
      "metadata": {
        "id": "S6z1hiXkTCxi"
      },
      "outputs": [],
      "source": [
        "X['Product_ID']=X['Product_ID'].map(prod_freq)"
      ]
    },
    {
      "cell_type": "code",
      "execution_count": 18,
      "metadata": {
        "colab": {
          "base_uri": "https://localhost:8080/",
          "height": 499
        },
        "id": "PlXsyWIxVjFH",
        "outputId": "84a448be-e29f-4a2f-e5d1-f3571c94f417"
      },
      "outputs": [
        {
          "data": {
            "text/html": [
              "<div>\n",
              "<style scoped>\n",
              "    .dataframe tbody tr th:only-of-type {\n",
              "        vertical-align: middle;\n",
              "    }\n",
              "\n",
              "    .dataframe tbody tr th {\n",
              "        vertical-align: top;\n",
              "    }\n",
              "\n",
              "    .dataframe thead th {\n",
              "        text-align: right;\n",
              "    }\n",
              "</style>\n",
              "<table border=\"1\" class=\"dataframe\">\n",
              "  <thead>\n",
              "    <tr style=\"text-align: right;\">\n",
              "      <th></th>\n",
              "      <th>Product_ID</th>\n",
              "      <th>Gender</th>\n",
              "      <th>Age</th>\n",
              "      <th>Occupation</th>\n",
              "      <th>City_Category</th>\n",
              "      <th>Stay_In_Current_City_Years</th>\n",
              "      <th>Marital_Status</th>\n",
              "      <th>Product_Category_1</th>\n",
              "      <th>Product_Category_2</th>\n",
              "      <th>Product_Category_3</th>\n",
              "    </tr>\n",
              "    <tr>\n",
              "      <th>User_ID</th>\n",
              "      <th></th>\n",
              "      <th></th>\n",
              "      <th></th>\n",
              "      <th></th>\n",
              "      <th></th>\n",
              "      <th></th>\n",
              "      <th></th>\n",
              "      <th></th>\n",
              "      <th></th>\n",
              "      <th></th>\n",
              "    </tr>\n",
              "  </thead>\n",
              "  <tbody>\n",
              "    <tr>\n",
              "      <th>1000001</th>\n",
              "      <td>227</td>\n",
              "      <td>F</td>\n",
              "      <td>0-17</td>\n",
              "      <td>10</td>\n",
              "      <td>A</td>\n",
              "      <td>2</td>\n",
              "      <td>0</td>\n",
              "      <td>3</td>\n",
              "      <td>8.0</td>\n",
              "      <td>16.0</td>\n",
              "    </tr>\n",
              "    <tr>\n",
              "      <th>1000001</th>\n",
              "      <td>581</td>\n",
              "      <td>F</td>\n",
              "      <td>0-17</td>\n",
              "      <td>10</td>\n",
              "      <td>A</td>\n",
              "      <td>2</td>\n",
              "      <td>0</td>\n",
              "      <td>1</td>\n",
              "      <td>6.0</td>\n",
              "      <td>14.0</td>\n",
              "    </tr>\n",
              "    <tr>\n",
              "      <th>1000001</th>\n",
              "      <td>102</td>\n",
              "      <td>F</td>\n",
              "      <td>0-17</td>\n",
              "      <td>10</td>\n",
              "      <td>A</td>\n",
              "      <td>2</td>\n",
              "      <td>0</td>\n",
              "      <td>12</td>\n",
              "      <td>8.0</td>\n",
              "      <td>16.0</td>\n",
              "    </tr>\n",
              "    <tr>\n",
              "      <th>1000001</th>\n",
              "      <td>341</td>\n",
              "      <td>F</td>\n",
              "      <td>0-17</td>\n",
              "      <td>10</td>\n",
              "      <td>A</td>\n",
              "      <td>2</td>\n",
              "      <td>0</td>\n",
              "      <td>12</td>\n",
              "      <td>14.0</td>\n",
              "      <td>16.0</td>\n",
              "    </tr>\n",
              "    <tr>\n",
              "      <th>1000002</th>\n",
              "      <td>203</td>\n",
              "      <td>M</td>\n",
              "      <td>55+</td>\n",
              "      <td>16</td>\n",
              "      <td>C</td>\n",
              "      <td>4+</td>\n",
              "      <td>0</td>\n",
              "      <td>8</td>\n",
              "      <td>8.0</td>\n",
              "      <td>16.0</td>\n",
              "    </tr>\n",
              "    <tr>\n",
              "      <th>...</th>\n",
              "      <td>...</td>\n",
              "      <td>...</td>\n",
              "      <td>...</td>\n",
              "      <td>...</td>\n",
              "      <td>...</td>\n",
              "      <td>...</td>\n",
              "      <td>...</td>\n",
              "      <td>...</td>\n",
              "      <td>...</td>\n",
              "      <td>...</td>\n",
              "    </tr>\n",
              "    <tr>\n",
              "      <th>1006033</th>\n",
              "      <td>836</td>\n",
              "      <td>M</td>\n",
              "      <td>51-55</td>\n",
              "      <td>13</td>\n",
              "      <td>B</td>\n",
              "      <td>1</td>\n",
              "      <td>1</td>\n",
              "      <td>20</td>\n",
              "      <td>8.0</td>\n",
              "      <td>16.0</td>\n",
              "    </tr>\n",
              "    <tr>\n",
              "      <th>1006035</th>\n",
              "      <td>812</td>\n",
              "      <td>F</td>\n",
              "      <td>26-35</td>\n",
              "      <td>1</td>\n",
              "      <td>C</td>\n",
              "      <td>3</td>\n",
              "      <td>0</td>\n",
              "      <td>20</td>\n",
              "      <td>8.0</td>\n",
              "      <td>16.0</td>\n",
              "    </tr>\n",
              "    <tr>\n",
              "      <th>1006036</th>\n",
              "      <td>812</td>\n",
              "      <td>F</td>\n",
              "      <td>26-35</td>\n",
              "      <td>15</td>\n",
              "      <td>B</td>\n",
              "      <td>4+</td>\n",
              "      <td>1</td>\n",
              "      <td>20</td>\n",
              "      <td>8.0</td>\n",
              "      <td>16.0</td>\n",
              "    </tr>\n",
              "    <tr>\n",
              "      <th>1006038</th>\n",
              "      <td>812</td>\n",
              "      <td>F</td>\n",
              "      <td>55+</td>\n",
              "      <td>1</td>\n",
              "      <td>C</td>\n",
              "      <td>2</td>\n",
              "      <td>0</td>\n",
              "      <td>20</td>\n",
              "      <td>8.0</td>\n",
              "      <td>16.0</td>\n",
              "    </tr>\n",
              "    <tr>\n",
              "      <th>1006039</th>\n",
              "      <td>895</td>\n",
              "      <td>F</td>\n",
              "      <td>46-50</td>\n",
              "      <td>0</td>\n",
              "      <td>B</td>\n",
              "      <td>4+</td>\n",
              "      <td>1</td>\n",
              "      <td>20</td>\n",
              "      <td>8.0</td>\n",
              "      <td>16.0</td>\n",
              "    </tr>\n",
              "  </tbody>\n",
              "</table>\n",
              "<p>549955 rows × 10 columns</p>\n",
              "</div>"
            ],
            "text/plain": [
              "         Product_ID Gender    Age Occupation City_Category  \\\n",
              "User_ID                                                      \n",
              "1000001         227      F   0-17         10             A   \n",
              "1000001         581      F   0-17         10             A   \n",
              "1000001         102      F   0-17         10             A   \n",
              "1000001         341      F   0-17         10             A   \n",
              "1000002         203      M    55+         16             C   \n",
              "...             ...    ...    ...        ...           ...   \n",
              "1006033         836      M  51-55         13             B   \n",
              "1006035         812      F  26-35          1             C   \n",
              "1006036         812      F  26-35         15             B   \n",
              "1006038         812      F    55+          1             C   \n",
              "1006039         895      F  46-50          0             B   \n",
              "\n",
              "        Stay_In_Current_City_Years Marital_Status Product_Category_1  \\\n",
              "User_ID                                                                \n",
              "1000001                          2              0                  3   \n",
              "1000001                          2              0                  1   \n",
              "1000001                          2              0                 12   \n",
              "1000001                          2              0                 12   \n",
              "1000002                         4+              0                  8   \n",
              "...                            ...            ...                ...   \n",
              "1006033                          1              1                 20   \n",
              "1006035                          3              0                 20   \n",
              "1006036                         4+              1                 20   \n",
              "1006038                          2              0                 20   \n",
              "1006039                         4+              1                 20   \n",
              "\n",
              "         Product_Category_2  Product_Category_3  \n",
              "User_ID                                          \n",
              "1000001                 8.0                16.0  \n",
              "1000001                 6.0                14.0  \n",
              "1000001                 8.0                16.0  \n",
              "1000001                14.0                16.0  \n",
              "1000002                 8.0                16.0  \n",
              "...                     ...                 ...  \n",
              "1006033                 8.0                16.0  \n",
              "1006035                 8.0                16.0  \n",
              "1006036                 8.0                16.0  \n",
              "1006038                 8.0                16.0  \n",
              "1006039                 8.0                16.0  \n",
              "\n",
              "[549955 rows x 10 columns]"
            ]
          },
          "execution_count": 18,
          "metadata": {},
          "output_type": "execute_result"
        }
      ],
      "source": [
        "X"
      ]
    },
    {
      "attachments": {},
      "cell_type": "markdown",
      "metadata": {
        "id": "ot6JkQ5NaRBv"
      },
      "source": [
        "# OneHot Encoding"
      ]
    },
    {
      "cell_type": "code",
      "execution_count": 19,
      "metadata": {
        "id": "3fUhKOZFDvfO"
      },
      "outputs": [],
      "source": [
        "from sklearn.preprocessing import OneHotEncoder\n",
        "encoder=OneHotEncoder()\n",
        "X=pd.DataFrame(encoder.fit_transform(X[['Gender','Age','Occupation','City_Category','Stay_In_Current_City_Years', 'Marital_Status',\n",
        "                                      'Product_Category_1','Product_Category_2', 'Product_Category_3']]).toarray(),columns=encoder.get_feature_names_out())"
      ]
    },
    {
      "cell_type": "code",
      "execution_count": 20,
      "metadata": {
        "colab": {
          "base_uri": "https://localhost:8080/",
          "height": 505
        },
        "id": "83psGIDjNf5k",
        "outputId": "467d4ca8-ca74-4678-d779-2346bdfe550a"
      },
      "outputs": [
        {
          "data": {
            "text/html": [
              "<div>\n",
              "<style scoped>\n",
              "    .dataframe tbody tr th:only-of-type {\n",
              "        vertical-align: middle;\n",
              "    }\n",
              "\n",
              "    .dataframe tbody tr th {\n",
              "        vertical-align: top;\n",
              "    }\n",
              "\n",
              "    .dataframe thead th {\n",
              "        text-align: right;\n",
              "    }\n",
              "</style>\n",
              "<table border=\"1\" class=\"dataframe\">\n",
              "  <thead>\n",
              "    <tr style=\"text-align: right;\">\n",
              "      <th></th>\n",
              "      <th>Gender_F</th>\n",
              "      <th>Gender_M</th>\n",
              "      <th>Age_0-17</th>\n",
              "      <th>Age_18-25</th>\n",
              "      <th>Age_26-35</th>\n",
              "      <th>Age_36-45</th>\n",
              "      <th>Age_46-50</th>\n",
              "      <th>Age_51-55</th>\n",
              "      <th>Age_55+</th>\n",
              "      <th>Occupation_0</th>\n",
              "      <th>...</th>\n",
              "      <th>Product_Category_3_9.0</th>\n",
              "      <th>Product_Category_3_10.0</th>\n",
              "      <th>Product_Category_3_11.0</th>\n",
              "      <th>Product_Category_3_12.0</th>\n",
              "      <th>Product_Category_3_13.0</th>\n",
              "      <th>Product_Category_3_14.0</th>\n",
              "      <th>Product_Category_3_15.0</th>\n",
              "      <th>Product_Category_3_16.0</th>\n",
              "      <th>Product_Category_3_17.0</th>\n",
              "      <th>Product_Category_3_18.0</th>\n",
              "    </tr>\n",
              "  </thead>\n",
              "  <tbody>\n",
              "    <tr>\n",
              "      <th>0</th>\n",
              "      <td>1.0</td>\n",
              "      <td>0.0</td>\n",
              "      <td>1.0</td>\n",
              "      <td>0.0</td>\n",
              "      <td>0.0</td>\n",
              "      <td>0.0</td>\n",
              "      <td>0.0</td>\n",
              "      <td>0.0</td>\n",
              "      <td>0.0</td>\n",
              "      <td>0.0</td>\n",
              "      <td>...</td>\n",
              "      <td>0.0</td>\n",
              "      <td>0.0</td>\n",
              "      <td>0.0</td>\n",
              "      <td>0.0</td>\n",
              "      <td>0.0</td>\n",
              "      <td>0.0</td>\n",
              "      <td>0.0</td>\n",
              "      <td>1.0</td>\n",
              "      <td>0.0</td>\n",
              "      <td>0.0</td>\n",
              "    </tr>\n",
              "    <tr>\n",
              "      <th>1</th>\n",
              "      <td>1.0</td>\n",
              "      <td>0.0</td>\n",
              "      <td>1.0</td>\n",
              "      <td>0.0</td>\n",
              "      <td>0.0</td>\n",
              "      <td>0.0</td>\n",
              "      <td>0.0</td>\n",
              "      <td>0.0</td>\n",
              "      <td>0.0</td>\n",
              "      <td>0.0</td>\n",
              "      <td>...</td>\n",
              "      <td>0.0</td>\n",
              "      <td>0.0</td>\n",
              "      <td>0.0</td>\n",
              "      <td>0.0</td>\n",
              "      <td>0.0</td>\n",
              "      <td>1.0</td>\n",
              "      <td>0.0</td>\n",
              "      <td>0.0</td>\n",
              "      <td>0.0</td>\n",
              "      <td>0.0</td>\n",
              "    </tr>\n",
              "    <tr>\n",
              "      <th>2</th>\n",
              "      <td>1.0</td>\n",
              "      <td>0.0</td>\n",
              "      <td>1.0</td>\n",
              "      <td>0.0</td>\n",
              "      <td>0.0</td>\n",
              "      <td>0.0</td>\n",
              "      <td>0.0</td>\n",
              "      <td>0.0</td>\n",
              "      <td>0.0</td>\n",
              "      <td>0.0</td>\n",
              "      <td>...</td>\n",
              "      <td>0.0</td>\n",
              "      <td>0.0</td>\n",
              "      <td>0.0</td>\n",
              "      <td>0.0</td>\n",
              "      <td>0.0</td>\n",
              "      <td>0.0</td>\n",
              "      <td>0.0</td>\n",
              "      <td>1.0</td>\n",
              "      <td>0.0</td>\n",
              "      <td>0.0</td>\n",
              "    </tr>\n",
              "    <tr>\n",
              "      <th>3</th>\n",
              "      <td>1.0</td>\n",
              "      <td>0.0</td>\n",
              "      <td>1.0</td>\n",
              "      <td>0.0</td>\n",
              "      <td>0.0</td>\n",
              "      <td>0.0</td>\n",
              "      <td>0.0</td>\n",
              "      <td>0.0</td>\n",
              "      <td>0.0</td>\n",
              "      <td>0.0</td>\n",
              "      <td>...</td>\n",
              "      <td>0.0</td>\n",
              "      <td>0.0</td>\n",
              "      <td>0.0</td>\n",
              "      <td>0.0</td>\n",
              "      <td>0.0</td>\n",
              "      <td>0.0</td>\n",
              "      <td>0.0</td>\n",
              "      <td>1.0</td>\n",
              "      <td>0.0</td>\n",
              "      <td>0.0</td>\n",
              "    </tr>\n",
              "    <tr>\n",
              "      <th>4</th>\n",
              "      <td>0.0</td>\n",
              "      <td>1.0</td>\n",
              "      <td>0.0</td>\n",
              "      <td>0.0</td>\n",
              "      <td>0.0</td>\n",
              "      <td>0.0</td>\n",
              "      <td>0.0</td>\n",
              "      <td>0.0</td>\n",
              "      <td>1.0</td>\n",
              "      <td>0.0</td>\n",
              "      <td>...</td>\n",
              "      <td>0.0</td>\n",
              "      <td>0.0</td>\n",
              "      <td>0.0</td>\n",
              "      <td>0.0</td>\n",
              "      <td>0.0</td>\n",
              "      <td>0.0</td>\n",
              "      <td>0.0</td>\n",
              "      <td>1.0</td>\n",
              "      <td>0.0</td>\n",
              "      <td>0.0</td>\n",
              "    </tr>\n",
              "    <tr>\n",
              "      <th>...</th>\n",
              "      <td>...</td>\n",
              "      <td>...</td>\n",
              "      <td>...</td>\n",
              "      <td>...</td>\n",
              "      <td>...</td>\n",
              "      <td>...</td>\n",
              "      <td>...</td>\n",
              "      <td>...</td>\n",
              "      <td>...</td>\n",
              "      <td>...</td>\n",
              "      <td>...</td>\n",
              "      <td>...</td>\n",
              "      <td>...</td>\n",
              "      <td>...</td>\n",
              "      <td>...</td>\n",
              "      <td>...</td>\n",
              "      <td>...</td>\n",
              "      <td>...</td>\n",
              "      <td>...</td>\n",
              "      <td>...</td>\n",
              "      <td>...</td>\n",
              "    </tr>\n",
              "    <tr>\n",
              "      <th>549950</th>\n",
              "      <td>0.0</td>\n",
              "      <td>1.0</td>\n",
              "      <td>0.0</td>\n",
              "      <td>0.0</td>\n",
              "      <td>0.0</td>\n",
              "      <td>0.0</td>\n",
              "      <td>0.0</td>\n",
              "      <td>1.0</td>\n",
              "      <td>0.0</td>\n",
              "      <td>0.0</td>\n",
              "      <td>...</td>\n",
              "      <td>0.0</td>\n",
              "      <td>0.0</td>\n",
              "      <td>0.0</td>\n",
              "      <td>0.0</td>\n",
              "      <td>0.0</td>\n",
              "      <td>0.0</td>\n",
              "      <td>0.0</td>\n",
              "      <td>1.0</td>\n",
              "      <td>0.0</td>\n",
              "      <td>0.0</td>\n",
              "    </tr>\n",
              "    <tr>\n",
              "      <th>549951</th>\n",
              "      <td>1.0</td>\n",
              "      <td>0.0</td>\n",
              "      <td>0.0</td>\n",
              "      <td>0.0</td>\n",
              "      <td>1.0</td>\n",
              "      <td>0.0</td>\n",
              "      <td>0.0</td>\n",
              "      <td>0.0</td>\n",
              "      <td>0.0</td>\n",
              "      <td>0.0</td>\n",
              "      <td>...</td>\n",
              "      <td>0.0</td>\n",
              "      <td>0.0</td>\n",
              "      <td>0.0</td>\n",
              "      <td>0.0</td>\n",
              "      <td>0.0</td>\n",
              "      <td>0.0</td>\n",
              "      <td>0.0</td>\n",
              "      <td>1.0</td>\n",
              "      <td>0.0</td>\n",
              "      <td>0.0</td>\n",
              "    </tr>\n",
              "    <tr>\n",
              "      <th>549952</th>\n",
              "      <td>1.0</td>\n",
              "      <td>0.0</td>\n",
              "      <td>0.0</td>\n",
              "      <td>0.0</td>\n",
              "      <td>1.0</td>\n",
              "      <td>0.0</td>\n",
              "      <td>0.0</td>\n",
              "      <td>0.0</td>\n",
              "      <td>0.0</td>\n",
              "      <td>0.0</td>\n",
              "      <td>...</td>\n",
              "      <td>0.0</td>\n",
              "      <td>0.0</td>\n",
              "      <td>0.0</td>\n",
              "      <td>0.0</td>\n",
              "      <td>0.0</td>\n",
              "      <td>0.0</td>\n",
              "      <td>0.0</td>\n",
              "      <td>1.0</td>\n",
              "      <td>0.0</td>\n",
              "      <td>0.0</td>\n",
              "    </tr>\n",
              "    <tr>\n",
              "      <th>549953</th>\n",
              "      <td>1.0</td>\n",
              "      <td>0.0</td>\n",
              "      <td>0.0</td>\n",
              "      <td>0.0</td>\n",
              "      <td>0.0</td>\n",
              "      <td>0.0</td>\n",
              "      <td>0.0</td>\n",
              "      <td>0.0</td>\n",
              "      <td>1.0</td>\n",
              "      <td>0.0</td>\n",
              "      <td>...</td>\n",
              "      <td>0.0</td>\n",
              "      <td>0.0</td>\n",
              "      <td>0.0</td>\n",
              "      <td>0.0</td>\n",
              "      <td>0.0</td>\n",
              "      <td>0.0</td>\n",
              "      <td>0.0</td>\n",
              "      <td>1.0</td>\n",
              "      <td>0.0</td>\n",
              "      <td>0.0</td>\n",
              "    </tr>\n",
              "    <tr>\n",
              "      <th>549954</th>\n",
              "      <td>1.0</td>\n",
              "      <td>0.0</td>\n",
              "      <td>0.0</td>\n",
              "      <td>0.0</td>\n",
              "      <td>0.0</td>\n",
              "      <td>0.0</td>\n",
              "      <td>1.0</td>\n",
              "      <td>0.0</td>\n",
              "      <td>0.0</td>\n",
              "      <td>1.0</td>\n",
              "      <td>...</td>\n",
              "      <td>0.0</td>\n",
              "      <td>0.0</td>\n",
              "      <td>0.0</td>\n",
              "      <td>0.0</td>\n",
              "      <td>0.0</td>\n",
              "      <td>0.0</td>\n",
              "      <td>0.0</td>\n",
              "      <td>1.0</td>\n",
              "      <td>0.0</td>\n",
              "      <td>0.0</td>\n",
              "    </tr>\n",
              "  </tbody>\n",
              "</table>\n",
              "<p>549955 rows × 92 columns</p>\n",
              "</div>"
            ],
            "text/plain": [
              "        Gender_F  Gender_M  Age_0-17  Age_18-25  Age_26-35  Age_36-45  \\\n",
              "0            1.0       0.0       1.0        0.0        0.0        0.0   \n",
              "1            1.0       0.0       1.0        0.0        0.0        0.0   \n",
              "2            1.0       0.0       1.0        0.0        0.0        0.0   \n",
              "3            1.0       0.0       1.0        0.0        0.0        0.0   \n",
              "4            0.0       1.0       0.0        0.0        0.0        0.0   \n",
              "...          ...       ...       ...        ...        ...        ...   \n",
              "549950       0.0       1.0       0.0        0.0        0.0        0.0   \n",
              "549951       1.0       0.0       0.0        0.0        1.0        0.0   \n",
              "549952       1.0       0.0       0.0        0.0        1.0        0.0   \n",
              "549953       1.0       0.0       0.0        0.0        0.0        0.0   \n",
              "549954       1.0       0.0       0.0        0.0        0.0        0.0   \n",
              "\n",
              "        Age_46-50  Age_51-55  Age_55+  Occupation_0  ...  \\\n",
              "0             0.0        0.0      0.0           0.0  ...   \n",
              "1             0.0        0.0      0.0           0.0  ...   \n",
              "2             0.0        0.0      0.0           0.0  ...   \n",
              "3             0.0        0.0      0.0           0.0  ...   \n",
              "4             0.0        0.0      1.0           0.0  ...   \n",
              "...           ...        ...      ...           ...  ...   \n",
              "549950        0.0        1.0      0.0           0.0  ...   \n",
              "549951        0.0        0.0      0.0           0.0  ...   \n",
              "549952        0.0        0.0      0.0           0.0  ...   \n",
              "549953        0.0        0.0      1.0           0.0  ...   \n",
              "549954        1.0        0.0      0.0           1.0  ...   \n",
              "\n",
              "        Product_Category_3_9.0  Product_Category_3_10.0  \\\n",
              "0                          0.0                      0.0   \n",
              "1                          0.0                      0.0   \n",
              "2                          0.0                      0.0   \n",
              "3                          0.0                      0.0   \n",
              "4                          0.0                      0.0   \n",
              "...                        ...                      ...   \n",
              "549950                     0.0                      0.0   \n",
              "549951                     0.0                      0.0   \n",
              "549952                     0.0                      0.0   \n",
              "549953                     0.0                      0.0   \n",
              "549954                     0.0                      0.0   \n",
              "\n",
              "        Product_Category_3_11.0  Product_Category_3_12.0  \\\n",
              "0                           0.0                      0.0   \n",
              "1                           0.0                      0.0   \n",
              "2                           0.0                      0.0   \n",
              "3                           0.0                      0.0   \n",
              "4                           0.0                      0.0   \n",
              "...                         ...                      ...   \n",
              "549950                      0.0                      0.0   \n",
              "549951                      0.0                      0.0   \n",
              "549952                      0.0                      0.0   \n",
              "549953                      0.0                      0.0   \n",
              "549954                      0.0                      0.0   \n",
              "\n",
              "        Product_Category_3_13.0  Product_Category_3_14.0  \\\n",
              "0                           0.0                      0.0   \n",
              "1                           0.0                      1.0   \n",
              "2                           0.0                      0.0   \n",
              "3                           0.0                      0.0   \n",
              "4                           0.0                      0.0   \n",
              "...                         ...                      ...   \n",
              "549950                      0.0                      0.0   \n",
              "549951                      0.0                      0.0   \n",
              "549952                      0.0                      0.0   \n",
              "549953                      0.0                      0.0   \n",
              "549954                      0.0                      0.0   \n",
              "\n",
              "        Product_Category_3_15.0  Product_Category_3_16.0  \\\n",
              "0                           0.0                      1.0   \n",
              "1                           0.0                      0.0   \n",
              "2                           0.0                      1.0   \n",
              "3                           0.0                      1.0   \n",
              "4                           0.0                      1.0   \n",
              "...                         ...                      ...   \n",
              "549950                      0.0                      1.0   \n",
              "549951                      0.0                      1.0   \n",
              "549952                      0.0                      1.0   \n",
              "549953                      0.0                      1.0   \n",
              "549954                      0.0                      1.0   \n",
              "\n",
              "        Product_Category_3_17.0  Product_Category_3_18.0  \n",
              "0                           0.0                      0.0  \n",
              "1                           0.0                      0.0  \n",
              "2                           0.0                      0.0  \n",
              "3                           0.0                      0.0  \n",
              "4                           0.0                      0.0  \n",
              "...                         ...                      ...  \n",
              "549950                      0.0                      0.0  \n",
              "549951                      0.0                      0.0  \n",
              "549952                      0.0                      0.0  \n",
              "549953                      0.0                      0.0  \n",
              "549954                      0.0                      0.0  \n",
              "\n",
              "[549955 rows x 92 columns]"
            ]
          },
          "execution_count": 20,
          "metadata": {},
          "output_type": "execute_result"
        }
      ],
      "source": [
        "X"
      ]
    },
    {
      "cell_type": "code",
      "execution_count": 21,
      "metadata": {
        "id": "-MiWyEBuhUd1"
      },
      "outputs": [],
      "source": [
        "#Train Test Split\n",
        "from sklearn.model_selection import train_test_split\n",
        "X_train,X_test,y_train,y_test=train_test_split(X,y,test_size=0.25,random_state=42)"
      ]
    },
    {
      "cell_type": "code",
      "execution_count": 22,
      "metadata": {
        "colab": {
          "base_uri": "https://localhost:8080/"
        },
        "id": "EnRKgTWUhUlV",
        "outputId": "1c0a178b-e8c5-45d0-ed1c-7124b2567f2a"
      },
      "outputs": [
        {
          "data": {
            "text/plain": [
              "((412466, 92), (137489, 92), (412466,), (137489,))"
            ]
          },
          "execution_count": 22,
          "metadata": {},
          "output_type": "execute_result"
        }
      ],
      "source": [
        "X_train.shape,X_test.shape,y_train.shape,y_test.shape"
      ]
    },
    {
      "attachments": {},
      "cell_type": "markdown",
      "metadata": {
        "id": "dfHXMBH6aaRR"
      },
      "source": [
        "# Model Training and Model Evaluation"
      ]
    },
    {
      "cell_type": "code",
      "execution_count": 23,
      "metadata": {
        "id": "tiZCEybQDvk8"
      },
      "outputs": [],
      "source": [
        "from sklearn.linear_model import LinearRegression,Lasso,Ridge,ElasticNet\n",
        "from sklearn.tree import DecisionTreeRegressor\n",
        "from sklearn.ensemble import RandomForestRegressor,AdaBoostRegressor,GradientBoostingRegressor\n",
        "from sklearn.metrics import mean_squared_error"
      ]
    },
    {
      "cell_type": "code",
      "execution_count": 24,
      "metadata": {
        "id": "aF8Bp_0qDvn_"
      },
      "outputs": [],
      "source": [
        "linear=LinearRegression()\n",
        "lasso=Lasso()\n",
        "ridge=Ridge()\n",
        "elastic=ElasticNet()\n",
        "decisiontree=DecisionTreeRegressor()\n",
        "randomforest=RandomForestRegressor()\n",
        "adaboost=AdaBoostRegressor()\n",
        "gboost=GradientBoostingRegressor()"
      ]
    },
    {
      "cell_type": "code",
      "execution_count": 25,
      "metadata": {
        "id": "AD_BstC3Dvqv"
      },
      "outputs": [
        {
          "name": "stderr",
          "output_type": "stream",
          "text": [
            "g:\\JoJo\\Internship\\Black Friday Sales Prediction\\venv\\lib\\site-packages\\sklearn\\linear_model\\_coordinate_descent.py:628: ConvergenceWarning: Objective did not converge. You might want to increase the number of iterations, check the scale of the features or consider increasing regularisation. Duality gap: 1.167e+10, tolerance: 1.038e+09\n",
            "  model = cd_fast.enet_coordinate_descent(\n"
          ]
        }
      ],
      "source": [
        "import time\n",
        "models=[linear,lasso,ridge,elastic,decisiontree,randomforest,adaboost,gboost]\n",
        "result=pd.DataFrame(columns=['Model Name','RMSE'])\n",
        "\n",
        "def build_and_evaluate_models(X_train,X_test,y_train,y_test,models):\n",
        "  for model in models:\n",
        "    start=time.time()\n",
        "    trained_model=model.fit(X_train,y_train)\n",
        "    end=time.time()\n",
        "    fit_time=end-start\n",
        "\n",
        "    start=time.time()\n",
        "    y_pred=trained_model.predict(X_test)\n",
        "    end=time.time()\n",
        "    fit_time=end-start\n",
        "\n",
        "    mse=mean_squared_error(y_test,y_pred)\n",
        "    rmse=np.sqrt(mse)\n",
        "\n",
        "    result.loc[len(result)]=[model.__class__.__name__,rmse]\n",
        "  return result\n",
        "\n",
        "result = build_and_evaluate_models(X_train,X_test,y_train,y_test,models)"
      ]
    },
    {
      "cell_type": "code",
      "execution_count": 26,
      "metadata": {
        "colab": {
          "base_uri": "https://localhost:8080/",
          "height": 269
        },
        "id": "sTXkjAXUy8bN",
        "outputId": "ef19a10c-25b7-4bce-9879-36f7d1dadba5"
      },
      "outputs": [
        {
          "data": {
            "text/html": [
              "<div>\n",
              "<style scoped>\n",
              "    .dataframe tbody tr th:only-of-type {\n",
              "        vertical-align: middle;\n",
              "    }\n",
              "\n",
              "    .dataframe tbody tr th {\n",
              "        vertical-align: top;\n",
              "    }\n",
              "\n",
              "    .dataframe thead th {\n",
              "        text-align: right;\n",
              "    }\n",
              "</style>\n",
              "<table border=\"1\" class=\"dataframe\">\n",
              "  <thead>\n",
              "    <tr style=\"text-align: right;\">\n",
              "      <th></th>\n",
              "      <th>Model Name</th>\n",
              "      <th>RMSE</th>\n",
              "    </tr>\n",
              "  </thead>\n",
              "  <tbody>\n",
              "    <tr>\n",
              "      <th>0</th>\n",
              "      <td>LinearRegression</td>\n",
              "      <td>2991.043964</td>\n",
              "    </tr>\n",
              "    <tr>\n",
              "      <th>1</th>\n",
              "      <td>Lasso</td>\n",
              "      <td>2993.282935</td>\n",
              "    </tr>\n",
              "    <tr>\n",
              "      <th>2</th>\n",
              "      <td>Ridge</td>\n",
              "      <td>2991.009673</td>\n",
              "    </tr>\n",
              "    <tr>\n",
              "      <th>3</th>\n",
              "      <td>ElasticNet</td>\n",
              "      <td>4430.646772</td>\n",
              "    </tr>\n",
              "    <tr>\n",
              "      <th>4</th>\n",
              "      <td>DecisionTreeRegressor</td>\n",
              "      <td>3287.810409</td>\n",
              "    </tr>\n",
              "    <tr>\n",
              "      <th>5</th>\n",
              "      <td>RandomForestRegressor</td>\n",
              "      <td>3032.811851</td>\n",
              "    </tr>\n",
              "    <tr>\n",
              "      <th>6</th>\n",
              "      <td>AdaBoostRegressor</td>\n",
              "      <td>3797.655436</td>\n",
              "    </tr>\n",
              "    <tr>\n",
              "      <th>7</th>\n",
              "      <td>GradientBoostingRegressor</td>\n",
              "      <td>3028.116171</td>\n",
              "    </tr>\n",
              "  </tbody>\n",
              "</table>\n",
              "</div>"
            ],
            "text/plain": [
              "                  Model Name         RMSE\n",
              "0           LinearRegression  2991.043964\n",
              "1                      Lasso  2993.282935\n",
              "2                      Ridge  2991.009673\n",
              "3                 ElasticNet  4430.646772\n",
              "4      DecisionTreeRegressor  3287.810409\n",
              "5      RandomForestRegressor  3032.811851\n",
              "6          AdaBoostRegressor  3797.655436\n",
              "7  GradientBoostingRegressor  3028.116171"
            ]
          },
          "execution_count": 26,
          "metadata": {},
          "output_type": "execute_result"
        }
      ],
      "source": [
        "result"
      ]
    },
    {
      "attachments": {},
      "cell_type": "markdown",
      "metadata": {
        "id": "_jzQLoEaajvY"
      },
      "source": [
        "# Hyperparameter Tuning Using Ridge Regression"
      ]
    },
    {
      "cell_type": "code",
      "execution_count": 27,
      "metadata": {
        "id": "xbNwLFZay9Nc"
      },
      "outputs": [],
      "source": [
        "# Hyperparamter Tuning Using Ridge Regressor:\n",
        "# GridSearch CV\n",
        "from sklearn.model_selection import GridSearchCV\n",
        "parameter={\n",
        " 'alpha':[0.001,0.01,1,10,100],\n",
        " 'solver':['auto', 'saga', 'lbfgs']\n",
        "}"
      ]
    },
    {
      "cell_type": "code",
      "execution_count": 28,
      "metadata": {
        "colab": {
          "base_uri": "https://localhost:8080/",
          "height": 1000
        },
        "id": "0ho-CDMt-Bnq",
        "outputId": "2f30bbb5-09a2-42e6-fb5a-90ef96133a35"
      },
      "outputs": [
        {
          "name": "stdout",
          "output_type": "stream",
          "text": [
            "Fitting 5 folds for each of 15 candidates, totalling 75 fits\n",
            "[CV 1/5] END ......alpha=0.001, solver=auto;, score=-2979.800 total time=   0.3s\n",
            "[CV 2/5] END ......alpha=0.001, solver=auto;, score=-2976.215 total time=   0.3s\n",
            "[CV 3/5] END ......alpha=0.001, solver=auto;, score=-2983.126 total time=   0.3s\n",
            "[CV 4/5] END ......alpha=0.001, solver=auto;, score=-2971.279 total time=   0.3s\n",
            "[CV 5/5] END ......alpha=0.001, solver=auto;, score=-2987.788 total time=   0.3s\n",
            "[CV 1/5] END ......alpha=0.001, solver=saga;, score=-2979.801 total time=   7.8s\n",
            "[CV 2/5] END ......alpha=0.001, solver=saga;, score=-2976.215 total time=   7.5s\n",
            "[CV 3/5] END ......alpha=0.001, solver=saga;, score=-2983.128 total time=   7.3s\n",
            "[CV 4/5] END ......alpha=0.001, solver=saga;, score=-2971.276 total time=   7.6s\n",
            "[CV 5/5] END ......alpha=0.001, solver=saga;, score=-2987.788 total time=   8.7s\n",
            "[CV 1/5] END ...........alpha=0.001, solver=lbfgs;, score=nan total time=   0.0s\n",
            "[CV 2/5] END ...........alpha=0.001, solver=lbfgs;, score=nan total time=   0.0s\n",
            "[CV 3/5] END ...........alpha=0.001, solver=lbfgs;, score=nan total time=   0.0s\n",
            "[CV 4/5] END ...........alpha=0.001, solver=lbfgs;, score=nan total time=   0.0s\n",
            "[CV 5/5] END ...........alpha=0.001, solver=lbfgs;, score=nan total time=   0.0s\n",
            "[CV 1/5] END .......alpha=0.01, solver=auto;, score=-2979.800 total time=   0.4s\n",
            "[CV 2/5] END .......alpha=0.01, solver=auto;, score=-2976.215 total time=   0.3s\n",
            "[CV 3/5] END .......alpha=0.01, solver=auto;, score=-2983.126 total time=   0.3s\n",
            "[CV 4/5] END .......alpha=0.01, solver=auto;, score=-2971.279 total time=   0.3s\n",
            "[CV 5/5] END .......alpha=0.01, solver=auto;, score=-2987.788 total time=   0.3s\n",
            "[CV 1/5] END .......alpha=0.01, solver=saga;, score=-2979.799 total time=   8.0s\n",
            "[CV 2/5] END .......alpha=0.01, solver=saga;, score=-2976.215 total time=   7.7s\n",
            "[CV 3/5] END .......alpha=0.01, solver=saga;, score=-2983.125 total time=   8.2s\n",
            "[CV 4/5] END .......alpha=0.01, solver=saga;, score=-2971.280 total time=   9.7s\n",
            "[CV 5/5] END .......alpha=0.01, solver=saga;, score=-2987.789 total time=   8.1s\n",
            "[CV 1/5] END ............alpha=0.01, solver=lbfgs;, score=nan total time=   0.0s\n",
            "[CV 2/5] END ............alpha=0.01, solver=lbfgs;, score=nan total time=   0.0s\n",
            "[CV 3/5] END ............alpha=0.01, solver=lbfgs;, score=nan total time=   0.0s\n",
            "[CV 4/5] END ............alpha=0.01, solver=lbfgs;, score=nan total time=   0.0s\n",
            "[CV 5/5] END ............alpha=0.01, solver=lbfgs;, score=nan total time=   0.0s\n",
            "[CV 1/5] END ..........alpha=1, solver=auto;, score=-2979.808 total time=   0.3s\n",
            "[CV 2/5] END ..........alpha=1, solver=auto;, score=-2976.221 total time=   0.3s\n",
            "[CV 3/5] END ..........alpha=1, solver=auto;, score=-2983.119 total time=   0.3s\n",
            "[CV 4/5] END ..........alpha=1, solver=auto;, score=-2971.276 total time=   0.3s\n",
            "[CV 5/5] END ..........alpha=1, solver=auto;, score=-2987.785 total time=   0.3s\n",
            "[CV 1/5] END ..........alpha=1, solver=saga;, score=-2979.807 total time=   7.8s\n",
            "[CV 2/5] END ..........alpha=1, solver=saga;, score=-2976.217 total time=   7.3s\n",
            "[CV 3/5] END ..........alpha=1, solver=saga;, score=-2983.119 total time=   8.1s\n",
            "[CV 4/5] END ..........alpha=1, solver=saga;, score=-2971.276 total time=   7.2s\n",
            "[CV 5/5] END ..........alpha=1, solver=saga;, score=-2987.786 total time=   7.5s\n",
            "[CV 1/5] END ...............alpha=1, solver=lbfgs;, score=nan total time=   0.0s\n",
            "[CV 2/5] END ...............alpha=1, solver=lbfgs;, score=nan total time=   0.0s\n",
            "[CV 3/5] END ...............alpha=1, solver=lbfgs;, score=nan total time=   0.0s\n",
            "[CV 4/5] END ...............alpha=1, solver=lbfgs;, score=nan total time=   0.0s\n",
            "[CV 5/5] END ...............alpha=1, solver=lbfgs;, score=nan total time=   0.0s\n",
            "[CV 1/5] END .........alpha=10, solver=auto;, score=-2979.900 total time=   0.3s\n",
            "[CV 2/5] END .........alpha=10, solver=auto;, score=-2976.299 total time=   0.4s\n",
            "[CV 3/5] END .........alpha=10, solver=auto;, score=-2983.083 total time=   0.3s\n",
            "[CV 4/5] END .........alpha=10, solver=auto;, score=-2971.269 total time=   0.3s\n",
            "[CV 5/5] END .........alpha=10, solver=auto;, score=-2987.782 total time=   0.3s\n",
            "[CV 1/5] END .........alpha=10, solver=saga;, score=-2979.902 total time=   7.3s\n",
            "[CV 2/5] END .........alpha=10, solver=saga;, score=-2976.300 total time=   6.6s\n",
            "[CV 3/5] END .........alpha=10, solver=saga;, score=-2983.085 total time=   8.3s\n",
            "[CV 4/5] END .........alpha=10, solver=saga;, score=-2971.269 total time=   6.8s\n",
            "[CV 5/5] END .........alpha=10, solver=saga;, score=-2987.782 total time=   6.4s\n",
            "[CV 1/5] END ..............alpha=10, solver=lbfgs;, score=nan total time=   0.0s\n",
            "[CV 2/5] END ..............alpha=10, solver=lbfgs;, score=nan total time=   0.0s\n",
            "[CV 3/5] END ..............alpha=10, solver=lbfgs;, score=nan total time=   0.0s\n",
            "[CV 4/5] END ..............alpha=10, solver=lbfgs;, score=nan total time=   0.1s\n",
            "[CV 5/5] END ..............alpha=10, solver=lbfgs;, score=nan total time=   0.0s\n",
            "[CV 1/5] END ........alpha=100, solver=auto;, score=-2982.497 total time=   0.3s\n",
            "[CV 2/5] END ........alpha=100, solver=auto;, score=-2978.759 total time=   0.3s\n",
            "[CV 3/5] END ........alpha=100, solver=auto;, score=-2984.548 total time=   0.3s\n",
            "[CV 4/5] END ........alpha=100, solver=auto;, score=-2973.035 total time=   0.3s\n",
            "[CV 5/5] END ........alpha=100, solver=auto;, score=-2989.560 total time=   0.3s\n",
            "[CV 1/5] END ........alpha=100, solver=saga;, score=-2982.496 total time=   7.4s\n",
            "[CV 2/5] END ........alpha=100, solver=saga;, score=-2978.759 total time=   6.8s\n",
            "[CV 3/5] END ........alpha=100, solver=saga;, score=-2984.550 total time=   7.0s\n",
            "[CV 4/5] END ........alpha=100, solver=saga;, score=-2973.033 total time=   6.7s\n",
            "[CV 5/5] END ........alpha=100, solver=saga;, score=-2989.560 total time=   8.3s\n",
            "[CV 1/5] END .............alpha=100, solver=lbfgs;, score=nan total time=   0.0s\n",
            "[CV 2/5] END .............alpha=100, solver=lbfgs;, score=nan total time=   0.0s\n",
            "[CV 3/5] END .............alpha=100, solver=lbfgs;, score=nan total time=   0.0s\n",
            "[CV 4/5] END .............alpha=100, solver=lbfgs;, score=nan total time=   0.0s\n",
            "[CV 5/5] END .............alpha=100, solver=lbfgs;, score=nan total time=   0.0s\n"
          ]
        },
        {
          "name": "stderr",
          "output_type": "stream",
          "text": [
            "g:\\JoJo\\Internship\\Black Friday Sales Prediction\\venv\\lib\\site-packages\\sklearn\\model_selection\\_validation.py:425: FitFailedWarning: \n",
            "25 fits failed out of a total of 75.\n",
            "The score on these train-test partitions for these parameters will be set to nan.\n",
            "If these failures are not expected, you can try to debug them by setting error_score='raise'.\n",
            "\n",
            "Below are more details about the failures:\n",
            "--------------------------------------------------------------------------------\n",
            "25 fits failed with the following error:\n",
            "Traceback (most recent call last):\n",
            "  File \"g:\\JoJo\\Internship\\Black Friday Sales Prediction\\venv\\lib\\site-packages\\sklearn\\model_selection\\_validation.py\", line 732, in _fit_and_score\n",
            "    estimator.fit(X_train, y_train, **fit_params)\n",
            "  File \"g:\\JoJo\\Internship\\Black Friday Sales Prediction\\venv\\lib\\site-packages\\sklearn\\base.py\", line 1151, in wrapper\n",
            "    return fit_method(estimator, *args, **kwargs)\n",
            "  File \"g:\\JoJo\\Internship\\Black Friday Sales Prediction\\venv\\lib\\site-packages\\sklearn\\linear_model\\_ridge.py\", line 1142, in fit\n",
            "    return super().fit(X, y, sample_weight=sample_weight)\n",
            "  File \"g:\\JoJo\\Internship\\Black Friday Sales Prediction\\venv\\lib\\site-packages\\sklearn\\linear_model\\_ridge.py\", line 819, in fit\n",
            "    raise ValueError(\n",
            "ValueError: 'lbfgs' solver can be used only when positive=True. Please use another solver.\n",
            "\n",
            "  warnings.warn(some_fits_failed_message, FitFailedWarning)\n",
            "g:\\JoJo\\Internship\\Black Friday Sales Prediction\\venv\\lib\\site-packages\\sklearn\\model_selection\\_search.py:976: UserWarning: One or more of the test scores are non-finite: [-2979.64160908 -2979.64164641            nan -2979.64160736\n",
            " -2979.6416535             nan -2979.64169431 -2979.64103942\n",
            "            nan -2979.66657474 -2979.6677574             nan\n",
            " -2981.67947622 -2981.67940615            nan]\n",
            "  warnings.warn(\n"
          ]
        },
        {
          "data": {
            "text/html": [
              "<style>#sk-container-id-1 {color: black;}#sk-container-id-1 pre{padding: 0;}#sk-container-id-1 div.sk-toggleable {background-color: white;}#sk-container-id-1 label.sk-toggleable__label {cursor: pointer;display: block;width: 100%;margin-bottom: 0;padding: 0.3em;box-sizing: border-box;text-align: center;}#sk-container-id-1 label.sk-toggleable__label-arrow:before {content: \"▸\";float: left;margin-right: 0.25em;color: #696969;}#sk-container-id-1 label.sk-toggleable__label-arrow:hover:before {color: black;}#sk-container-id-1 div.sk-estimator:hover label.sk-toggleable__label-arrow:before {color: black;}#sk-container-id-1 div.sk-toggleable__content {max-height: 0;max-width: 0;overflow: hidden;text-align: left;background-color: #f0f8ff;}#sk-container-id-1 div.sk-toggleable__content pre {margin: 0.2em;color: black;border-radius: 0.25em;background-color: #f0f8ff;}#sk-container-id-1 input.sk-toggleable__control:checked~div.sk-toggleable__content {max-height: 200px;max-width: 100%;overflow: auto;}#sk-container-id-1 input.sk-toggleable__control:checked~label.sk-toggleable__label-arrow:before {content: \"▾\";}#sk-container-id-1 div.sk-estimator input.sk-toggleable__control:checked~label.sk-toggleable__label {background-color: #d4ebff;}#sk-container-id-1 div.sk-label input.sk-toggleable__control:checked~label.sk-toggleable__label {background-color: #d4ebff;}#sk-container-id-1 input.sk-hidden--visually {border: 0;clip: rect(1px 1px 1px 1px);clip: rect(1px, 1px, 1px, 1px);height: 1px;margin: -1px;overflow: hidden;padding: 0;position: absolute;width: 1px;}#sk-container-id-1 div.sk-estimator {font-family: monospace;background-color: #f0f8ff;border: 1px dotted black;border-radius: 0.25em;box-sizing: border-box;margin-bottom: 0.5em;}#sk-container-id-1 div.sk-estimator:hover {background-color: #d4ebff;}#sk-container-id-1 div.sk-parallel-item::after {content: \"\";width: 100%;border-bottom: 1px solid gray;flex-grow: 1;}#sk-container-id-1 div.sk-label:hover label.sk-toggleable__label {background-color: #d4ebff;}#sk-container-id-1 div.sk-serial::before {content: \"\";position: absolute;border-left: 1px solid gray;box-sizing: border-box;top: 0;bottom: 0;left: 50%;z-index: 0;}#sk-container-id-1 div.sk-serial {display: flex;flex-direction: column;align-items: center;background-color: white;padding-right: 0.2em;padding-left: 0.2em;position: relative;}#sk-container-id-1 div.sk-item {position: relative;z-index: 1;}#sk-container-id-1 div.sk-parallel {display: flex;align-items: stretch;justify-content: center;background-color: white;position: relative;}#sk-container-id-1 div.sk-item::before, #sk-container-id-1 div.sk-parallel-item::before {content: \"\";position: absolute;border-left: 1px solid gray;box-sizing: border-box;top: 0;bottom: 0;left: 50%;z-index: -1;}#sk-container-id-1 div.sk-parallel-item {display: flex;flex-direction: column;z-index: 1;position: relative;background-color: white;}#sk-container-id-1 div.sk-parallel-item:first-child::after {align-self: flex-end;width: 50%;}#sk-container-id-1 div.sk-parallel-item:last-child::after {align-self: flex-start;width: 50%;}#sk-container-id-1 div.sk-parallel-item:only-child::after {width: 0;}#sk-container-id-1 div.sk-dashed-wrapped {border: 1px dashed gray;margin: 0 0.4em 0.5em 0.4em;box-sizing: border-box;padding-bottom: 0.4em;background-color: white;}#sk-container-id-1 div.sk-label label {font-family: monospace;font-weight: bold;display: inline-block;line-height: 1.2em;}#sk-container-id-1 div.sk-label-container {text-align: center;}#sk-container-id-1 div.sk-container {/* jupyter's `normalize.less` sets `[hidden] { display: none; }` but bootstrap.min.css set `[hidden] { display: none !important; }` so we also need the `!important` here to be able to override the default hidden behavior on the sphinx rendered scikit-learn.org. See: https://github.com/scikit-learn/scikit-learn/issues/21755 */display: inline-block !important;position: relative;}#sk-container-id-1 div.sk-text-repr-fallback {display: none;}</style><div id=\"sk-container-id-1\" class=\"sk-top-container\"><div class=\"sk-text-repr-fallback\"><pre>GridSearchCV(cv=5, estimator=Ridge(),\n",
              "             param_grid={&#x27;alpha&#x27;: [0.001, 0.01, 1, 10, 100],\n",
              "                         &#x27;solver&#x27;: [&#x27;auto&#x27;, &#x27;saga&#x27;, &#x27;lbfgs&#x27;]},\n",
              "             scoring=&#x27;neg_root_mean_squared_error&#x27;, verbose=3)</pre><b>In a Jupyter environment, please rerun this cell to show the HTML representation or trust the notebook. <br />On GitHub, the HTML representation is unable to render, please try loading this page with nbviewer.org.</b></div><div class=\"sk-container\" hidden><div class=\"sk-item sk-dashed-wrapped\"><div class=\"sk-label-container\"><div class=\"sk-label sk-toggleable\"><input class=\"sk-toggleable__control sk-hidden--visually\" id=\"sk-estimator-id-1\" type=\"checkbox\" ><label for=\"sk-estimator-id-1\" class=\"sk-toggleable__label sk-toggleable__label-arrow\">GridSearchCV</label><div class=\"sk-toggleable__content\"><pre>GridSearchCV(cv=5, estimator=Ridge(),\n",
              "             param_grid={&#x27;alpha&#x27;: [0.001, 0.01, 1, 10, 100],\n",
              "                         &#x27;solver&#x27;: [&#x27;auto&#x27;, &#x27;saga&#x27;, &#x27;lbfgs&#x27;]},\n",
              "             scoring=&#x27;neg_root_mean_squared_error&#x27;, verbose=3)</pre></div></div></div><div class=\"sk-parallel\"><div class=\"sk-parallel-item\"><div class=\"sk-item\"><div class=\"sk-label-container\"><div class=\"sk-label sk-toggleable\"><input class=\"sk-toggleable__control sk-hidden--visually\" id=\"sk-estimator-id-2\" type=\"checkbox\" ><label for=\"sk-estimator-id-2\" class=\"sk-toggleable__label sk-toggleable__label-arrow\">estimator: Ridge</label><div class=\"sk-toggleable__content\"><pre>Ridge()</pre></div></div></div><div class=\"sk-serial\"><div class=\"sk-item\"><div class=\"sk-estimator sk-toggleable\"><input class=\"sk-toggleable__control sk-hidden--visually\" id=\"sk-estimator-id-3\" type=\"checkbox\" ><label for=\"sk-estimator-id-3\" class=\"sk-toggleable__label sk-toggleable__label-arrow\">Ridge</label><div class=\"sk-toggleable__content\"><pre>Ridge()</pre></div></div></div></div></div></div></div></div></div></div>"
            ],
            "text/plain": [
              "GridSearchCV(cv=5, estimator=Ridge(),\n",
              "             param_grid={'alpha': [0.001, 0.01, 1, 10, 100],\n",
              "                         'solver': ['auto', 'saga', 'lbfgs']},\n",
              "             scoring='neg_root_mean_squared_error', verbose=3)"
            ]
          },
          "execution_count": 28,
          "metadata": {},
          "output_type": "execute_result"
        }
      ],
      "source": [
        "regressor=Ridge()\n",
        "reg=GridSearchCV(regressor,param_grid=parameter,cv=5,scoring='neg_root_mean_squared_error',verbose=3)\n",
        "reg.fit(X_train,y_train)"
      ]
    },
    {
      "cell_type": "code",
      "execution_count": 29,
      "metadata": {
        "colab": {
          "base_uri": "https://localhost:8080/"
        },
        "id": "mBTU16Vu_Dxc",
        "outputId": "f5f517bd-b2b1-4578-f113-229bebe48721"
      },
      "outputs": [
        {
          "data": {
            "text/plain": [
              "{'alpha': 1, 'solver': 'saga'}"
            ]
          },
          "execution_count": 29,
          "metadata": {},
          "output_type": "execute_result"
        }
      ],
      "source": [
        "reg.best_params_"
      ]
    },
    {
      "cell_type": "code",
      "execution_count": 30,
      "metadata": {
        "colab": {
          "base_uri": "https://localhost:8080/",
          "height": 74
        },
        "id": "l49c7oRE_D1h",
        "outputId": "3f9ca352-1759-4c0a-dca8-90b86519faf3"
      },
      "outputs": [
        {
          "data": {
            "text/html": [
              "<style>#sk-container-id-2 {color: black;}#sk-container-id-2 pre{padding: 0;}#sk-container-id-2 div.sk-toggleable {background-color: white;}#sk-container-id-2 label.sk-toggleable__label {cursor: pointer;display: block;width: 100%;margin-bottom: 0;padding: 0.3em;box-sizing: border-box;text-align: center;}#sk-container-id-2 label.sk-toggleable__label-arrow:before {content: \"▸\";float: left;margin-right: 0.25em;color: #696969;}#sk-container-id-2 label.sk-toggleable__label-arrow:hover:before {color: black;}#sk-container-id-2 div.sk-estimator:hover label.sk-toggleable__label-arrow:before {color: black;}#sk-container-id-2 div.sk-toggleable__content {max-height: 0;max-width: 0;overflow: hidden;text-align: left;background-color: #f0f8ff;}#sk-container-id-2 div.sk-toggleable__content pre {margin: 0.2em;color: black;border-radius: 0.25em;background-color: #f0f8ff;}#sk-container-id-2 input.sk-toggleable__control:checked~div.sk-toggleable__content {max-height: 200px;max-width: 100%;overflow: auto;}#sk-container-id-2 input.sk-toggleable__control:checked~label.sk-toggleable__label-arrow:before {content: \"▾\";}#sk-container-id-2 div.sk-estimator input.sk-toggleable__control:checked~label.sk-toggleable__label {background-color: #d4ebff;}#sk-container-id-2 div.sk-label input.sk-toggleable__control:checked~label.sk-toggleable__label {background-color: #d4ebff;}#sk-container-id-2 input.sk-hidden--visually {border: 0;clip: rect(1px 1px 1px 1px);clip: rect(1px, 1px, 1px, 1px);height: 1px;margin: -1px;overflow: hidden;padding: 0;position: absolute;width: 1px;}#sk-container-id-2 div.sk-estimator {font-family: monospace;background-color: #f0f8ff;border: 1px dotted black;border-radius: 0.25em;box-sizing: border-box;margin-bottom: 0.5em;}#sk-container-id-2 div.sk-estimator:hover {background-color: #d4ebff;}#sk-container-id-2 div.sk-parallel-item::after {content: \"\";width: 100%;border-bottom: 1px solid gray;flex-grow: 1;}#sk-container-id-2 div.sk-label:hover label.sk-toggleable__label {background-color: #d4ebff;}#sk-container-id-2 div.sk-serial::before {content: \"\";position: absolute;border-left: 1px solid gray;box-sizing: border-box;top: 0;bottom: 0;left: 50%;z-index: 0;}#sk-container-id-2 div.sk-serial {display: flex;flex-direction: column;align-items: center;background-color: white;padding-right: 0.2em;padding-left: 0.2em;position: relative;}#sk-container-id-2 div.sk-item {position: relative;z-index: 1;}#sk-container-id-2 div.sk-parallel {display: flex;align-items: stretch;justify-content: center;background-color: white;position: relative;}#sk-container-id-2 div.sk-item::before, #sk-container-id-2 div.sk-parallel-item::before {content: \"\";position: absolute;border-left: 1px solid gray;box-sizing: border-box;top: 0;bottom: 0;left: 50%;z-index: -1;}#sk-container-id-2 div.sk-parallel-item {display: flex;flex-direction: column;z-index: 1;position: relative;background-color: white;}#sk-container-id-2 div.sk-parallel-item:first-child::after {align-self: flex-end;width: 50%;}#sk-container-id-2 div.sk-parallel-item:last-child::after {align-self: flex-start;width: 50%;}#sk-container-id-2 div.sk-parallel-item:only-child::after {width: 0;}#sk-container-id-2 div.sk-dashed-wrapped {border: 1px dashed gray;margin: 0 0.4em 0.5em 0.4em;box-sizing: border-box;padding-bottom: 0.4em;background-color: white;}#sk-container-id-2 div.sk-label label {font-family: monospace;font-weight: bold;display: inline-block;line-height: 1.2em;}#sk-container-id-2 div.sk-label-container {text-align: center;}#sk-container-id-2 div.sk-container {/* jupyter's `normalize.less` sets `[hidden] { display: none; }` but bootstrap.min.css set `[hidden] { display: none !important; }` so we also need the `!important` here to be able to override the default hidden behavior on the sphinx rendered scikit-learn.org. See: https://github.com/scikit-learn/scikit-learn/issues/21755 */display: inline-block !important;position: relative;}#sk-container-id-2 div.sk-text-repr-fallback {display: none;}</style><div id=\"sk-container-id-2\" class=\"sk-top-container\"><div class=\"sk-text-repr-fallback\"><pre>Ridge(alpha=1, solver=&#x27;saga&#x27;)</pre><b>In a Jupyter environment, please rerun this cell to show the HTML representation or trust the notebook. <br />On GitHub, the HTML representation is unable to render, please try loading this page with nbviewer.org.</b></div><div class=\"sk-container\" hidden><div class=\"sk-item\"><div class=\"sk-estimator sk-toggleable\"><input class=\"sk-toggleable__control sk-hidden--visually\" id=\"sk-estimator-id-4\" type=\"checkbox\" checked><label for=\"sk-estimator-id-4\" class=\"sk-toggleable__label sk-toggleable__label-arrow\">Ridge</label><div class=\"sk-toggleable__content\"><pre>Ridge(alpha=1, solver=&#x27;saga&#x27;)</pre></div></div></div></div></div>"
            ],
            "text/plain": [
              "Ridge(alpha=1, solver='saga')"
            ]
          },
          "execution_count": 30,
          "metadata": {},
          "output_type": "execute_result"
        }
      ],
      "source": [
        "reg.best_estimator_"
      ]
    },
    {
      "cell_type": "code",
      "execution_count": 31,
      "metadata": {
        "colab": {
          "base_uri": "https://localhost:8080/"
        },
        "id": "zbZIFLwnDIkM",
        "outputId": "86d4cfe9-3b47-4298-f8b2-3cbf0176f4ff"
      },
      "outputs": [
        {
          "data": {
            "text/plain": [
              "-2979.641039418364"
            ]
          },
          "execution_count": 31,
          "metadata": {},
          "output_type": "execute_result"
        }
      ],
      "source": [
        "reg.best_score_"
      ]
    },
    {
      "cell_type": "code",
      "execution_count": 32,
      "metadata": {
        "colab": {
          "base_uri": "https://localhost:8080/"
        },
        "id": "liaP7pMP_D4M",
        "outputId": "cc2c598a-46ce-4c72-a3a7-7c4f28e2100b"
      },
      "outputs": [
        {
          "name": "stderr",
          "output_type": "stream",
          "text": [
            "g:\\JoJo\\Internship\\Black Friday Sales Prediction\\venv\\lib\\site-packages\\sklearn\\base.py:464: UserWarning: X does not have valid feature names, but Ridge was fitted with feature names\n",
            "  warnings.warn(\n"
          ]
        },
        {
          "data": {
            "text/plain": [
              "array([6232.69995813])"
            ]
          },
          "execution_count": 32,
          "metadata": {},
          "output_type": "execute_result"
        }
      ],
      "source": [
        "reg.best_estimator_.predict([X_test.iloc[10]])"
      ]
    },
    {
      "cell_type": "code",
      "execution_count": 33,
      "metadata": {
        "id": "yy5XpvS9DXHE"
      },
      "outputs": [],
      "source": [
        "y_pred=reg.best_estimator_.predict(X_test)\n",
        "mse=mean_squared_error(y_test,y_pred)\n",
        "rmse=np.sqrt(mse)"
      ]
    },
    {
      "cell_type": "code",
      "execution_count": 34,
      "metadata": {
        "colab": {
          "base_uri": "https://localhost:8080/"
        },
        "id": "7hi4Y9e5Dejq",
        "outputId": "38551c74-5aba-4a50-c2b2-0715aaa87e6b"
      },
      "outputs": [
        {
          "data": {
            "text/plain": [
              "2991.0095455051246"
            ]
          },
          "execution_count": 34,
          "metadata": {},
          "output_type": "execute_result"
        }
      ],
      "source": [
        "rmse"
      ]
    }
  ],
  "metadata": {
    "colab": {
      "provenance": []
    },
    "kernelspec": {
      "display_name": "Python 3",
      "name": "python3"
    },
    "language_info": {
      "codemirror_mode": {
        "name": "ipython",
        "version": 3
      },
      "file_extension": ".py",
      "mimetype": "text/x-python",
      "name": "python",
      "nbconvert_exporter": "python",
      "pygments_lexer": "ipython3",
      "version": "3.8.0"
    }
  },
  "nbformat": 4,
  "nbformat_minor": 0
}
